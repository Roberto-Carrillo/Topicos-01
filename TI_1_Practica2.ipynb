{
  "cells": [
    {
      "attachments": {},
      "cell_type": "markdown",
      "id": "bbeb0c1e",
      "metadata": {
        "id": "bbeb0c1e"
      },
      "source": [
        "# Tópicos de Industria I\n",
        "## Práctica 2 - Vuelos de Lévy\n",
        "\n",
        "### Universidad de Guadalajara - 2023\n",
        "\n",
        "**Nombre:** Roberto Octavio Carrillo Luevano\n",
        "\n",
        "**e-mail:** roberto.carrillo7958@alumnos.udg.mx\n",
        "\n",
        "## Vuelos de Lévy\n",
        "\n",
        "Como parte de "
      ]
    },
    {
      "cell_type": "markdown",
      "id": "a31326d0",
      "metadata": {
        "id": "a31326d0"
      },
      "source": [
        "## MODULES"
      ]
    },
    {
      "cell_type": "code",
      "execution_count": 1,
      "id": "9c33a472",
      "metadata": {
        "id": "9c33a472"
      },
      "outputs": [],
      "source": [
        "import math\n",
        "import numpy as np\n",
        "import matplotlib.pyplot as plt\n",
        "import pandas as pd\n",
        "\n",
        "from plotly.subplots import make_subplots\n",
        "import plotly.graph_objects as go\n",
        "\n",
        "\n",
        "from scipy.stats import wrapcauchy\n",
        "from scipy.stats import levy_stable"
      ]
    },
    {
      "cell_type": "markdown",
      "id": "eea985c3",
      "metadata": {
        "id": "eea985c3"
      },
      "source": [
        "## CLASSES"
      ]
    },
    {
      "cell_type": "code",
      "execution_count": 2,
      "id": "e2ee1ad4",
      "metadata": {
        "id": "e2ee1ad4"
      },
      "outputs": [],
      "source": [
        "################# http://www.pygame.org/wiki/2DVectorClass ##################\n",
        "class Vec2d(object):\n",
        "    \"\"\"2d vector class, supports vector and scalar operators,\n",
        "       and also provides a bunch of high level functions\n",
        "       \"\"\"\n",
        "    __slots__ = ['x', 'y']\n",
        "\n",
        "    def __init__(self, x_or_pair, y = None):\n",
        "        if y == None:            \n",
        "            self.x = x_or_pair[0]\n",
        "            self.y = x_or_pair[1]\n",
        "        else:\n",
        "            self.x = x_or_pair\n",
        "            self.y = y\n",
        "            \n",
        "    # Addition\n",
        "    def __add__(self, other):\n",
        "        if isinstance(other, Vec2d):\n",
        "            return Vec2d(self.x + other.x, self.y + other.y)\n",
        "        elif hasattr(other, \"__getitem__\"):\n",
        "            return Vec2d(self.x + other[0], self.y + other[1])\n",
        "        else:\n",
        "            return Vec2d(self.x + other, self.y + other)\n",
        "\n",
        "    # Subtraction\n",
        "    def __sub__(self, other):\n",
        "        if isinstance(other, Vec2d):\n",
        "            return Vec2d(self.x - other.x, self.y - other.y)\n",
        "        elif (hasattr(other, \"__getitem__\")):\n",
        "            return Vec2d(self.x - other[0], self.y - other[1])\n",
        "        else:\n",
        "            return Vec2d(self.x - other, self.y - other)\n",
        "    \n",
        "    # Vector length\n",
        "    def get_length(self):\n",
        "        return math.sqrt(self.x**2 + self.y**2)\n",
        "    \n",
        "    # rotate vector\n",
        "    def rotated(self, angle):        \n",
        "        cos = math.cos(angle)\n",
        "        sin = math.sin(angle)\n",
        "        x = self.x*cos - self.y*sin\n",
        "        y = self.x*sin + self.y*cos\n",
        "        return Vec2d(x, y)"
      ]
    },
    {
      "cell_type": "markdown",
      "id": "680109c9",
      "metadata": {
        "id": "680109c9"
      },
      "source": [
        "## Actividad 1: Lévy distribution - N Curves (3 pts)\n",
        "\n",
        "* Generar al menos las 4 curvas de distribución timpo Lévy stable que se observan en la imagen\n",
        "* Visualizar con **plotly**\n",
        "\n",
        "* Parametros m = 3.0, Levy_exponent = x, beta = 0\n",
        "\n",
        "![levy.png](attachment:levy.png)"
      ]
    },
    {
      "cell_type": "code",
      "execution_count": null,
      "id": "58627d1c",
      "metadata": {
        "id": "58627d1c"
      },
      "outputs": [],
      "source": [
        "# Parámetros Iniciales\n",
        "\n",
        "# Resolución\n",
        "resolution = 200\n",
        "# Definiendo vector auxiliar\n",
        "aux_domain = np.linspace(0, 2*np.pi, resolution)\n",
        "# Definiendo un conjunto de exponentes para generar diferentes distribuciones\n",
        "CRW_exps = [0.00001, 0.3, 0.4, 0.6, 0.9]\n",
        "# CRW Figure\n",
        "fig_wrapcauchy_pdf = go.Figure()\n",
        "# Create aux plot\n",
        "aux_plot = np.linspace(-np.pi,np.pi, resolution)\n",
        "\n",
        "# Definiendo función para generar wrapcauchy\n",
        "def wrapcauchy_pdf_exp(CWR_exp):\n",
        "  return np.array([wrapcauchy.pdf(i, CWR_exp) for i in aux_domain])\n",
        "\n",
        "def plot_wrapcauchy_pdf(wrapcauchy_pdf, plotname):\n",
        "  # Define concatenated plot\n",
        "  plot_wc_pdf = np.concatenate((wrapcauchy_pdf[int(resolution/2):resolution], wrapcauchy_pdf[0:int(resolution/2)]), axis=0)\n",
        "  # Add the trace to the figure\n",
        "  fig_wrapcauchy_pdf.add_trace(go.Scatter( \n",
        "    x = aux_plot,\n",
        "    y = plot_wc_pdf,\n",
        "    marker = dict(size=2),\n",
        "    line = dict(width=2),\n",
        "    mode = 'lines',\n",
        "    name = plotname,\n",
        "  ))"
      ]
    },
    {
      "cell_type": "code",
      "execution_count": null,
      "id": "5db8d77c",
      "metadata": {},
      "outputs": [],
      "source": [
        "for exp in CRW_exps:\n",
        "  wrapcauchy_pdf = wrapcauchy_pdf_exp(exp)\n",
        "  plot_wrapcauchy_pdf(wrapcauchy_pdf, f'cauchy_{exp}')\n",
        "\n",
        "fig_wrapcauchy_pdf.update_layout(title_text='Wrap Cauchy Density Functions at different exponents')\n",
        "fig_wrapcauchy_pdf.show()"
      ]
    },
    {
      "cell_type": "markdown",
      "id": "c4ea7d32",
      "metadata": {
        "id": "c4ea7d32"
      },
      "source": [
        "## Actividad 2: Lévy distribution - Histogram + Curve (4 pts)\n",
        "\n",
        "* A partir de un conjunto de valores aleatorios extraidos de una distribución tipo Lévy stable, obtener su histograma y comparar con la curva correspondiente PDF\n",
        "* Visualizar con **matplotlib**"
      ]
    },
    {
      "cell_type": "code",
      "execution_count": null,
      "id": "7c5082a3",
      "metadata": {
        "id": "7c5082a3"
      },
      "outputs": [],
      "source": []
    },
    {
      "cell_type": "markdown",
      "id": "bcc0bb18",
      "metadata": {
        "id": "bcc0bb18"
      },
      "source": [
        "## Actividad 3: Lévy ﬂight - Vec2d - 1 Trajectory (6 pts)\n",
        "\n",
        "* Utilizar **Vec2d**\n",
        "* Guardar trayectorias en **Pandas** Data Frame\n",
        "* Visualizar proyección en 3d con **plotly**"
      ]
    },
    {
      "cell_type": "code",
      "execution_count": null,
      "id": "147f549b",
      "metadata": {
        "id": "147f549b"
      },
      "outputs": [],
      "source": []
    },
    {
      "cell_type": "markdown",
      "id": "6bc5c5b6",
      "metadata": {
        "id": "6bc5c5b6"
      },
      "source": [
        "## Actividad 4: Correlated Random Walk - Vec2d - N Trajectories (7 pts)\n",
        "\n",
        "* Generar tantas trayectorias tipo CRW como se especifique en una variable n_traj\n",
        "* Cada una de las debe tener un coeficiente de Cauchy diferente\n",
        "* Utilizar **Vec2d**\n",
        "* Guardar trayectorias en **Pandas** Data Frame\n",
        "* Visualizar proyección en 3d con **plotly**\n",
        "* Exportar trayectorias como *pkl*"
      ]
    },
    {
      "cell_type": "code",
      "execution_count": null,
      "id": "68b774d1",
      "metadata": {
        "id": "68b774d1"
      },
      "outputs": [],
      "source": []
    }
  ],
  "metadata": {
    "colab": {
      "provenance": []
    },
    "kernelspec": {
      "display_name": "base",
      "language": "python",
      "name": "python3"
    },
    "language_info": {
      "codemirror_mode": {
        "name": "ipython",
        "version": 3
      },
      "file_extension": ".py",
      "mimetype": "text/x-python",
      "name": "python",
      "nbconvert_exporter": "python",
      "pygments_lexer": "ipython3",
      "version": "3.9.12"
    },
    "vscode": {
      "interpreter": {
        "hash": "740329b21a1252e1c253d583311b6d3f7744168cabc7e2151c4ba7a007513518"
      }
    }
  },
  "nbformat": 4,
  "nbformat_minor": 5
}
